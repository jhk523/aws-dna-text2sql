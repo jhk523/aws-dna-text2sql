{
 "cells": [
  {
   "cell_type": "markdown",
   "id": "89532be7-5acb-4dc9-b64f-d65094ec5326",
   "metadata": {},
   "source": [
    "https://github.com/aws-samples/aws-ai-ml-workshop-kr/blob/master/genai/aws-gen-ai-kr/06_CodeGeneration/Text2SQL/02_sql_based_qna_w_langchain.ipynb"
   ]
  },
  {
   "cell_type": "code",
   "execution_count": 1,
   "id": "9aa20ab1-b0af-4e83-ab7d-cd7b19437f5b",
   "metadata": {
    "tags": []
   },
   "outputs": [],
   "source": [
    "import boto3\n",
    "import json\n",
    "\n",
    "from langchain_community.utilities import SQLDatabase\n",
    "from langchain.chains import create_sql_query_chain\n",
    "from langchain_aws import ChatBedrock\n",
    "from langchain_community.tools.sql_database.tool import QuerySQLDataBaseTool\n",
    "from langchain.callbacks.streaming_stdout import StreamingStdOutCallbackHandler\n",
    "from langchain.schema import StrOutputParser\n",
    "from langchain.callbacks.tracers import ConsoleCallbackHandler\n",
    "from langchain_core.prompts import FewShotPromptTemplate, PromptTemplate"
   ]
  },
  {
   "cell_type": "markdown",
   "id": "1d3eb165-bcf5-46fe-97aa-792c47d9487c",
   "metadata": {},
   "source": [
    "### Connect DB"
   ]
  },
  {
   "cell_type": "code",
   "execution_count": 2,
   "id": "f0d71cb4-5343-423f-80df-28a9210fd95d",
   "metadata": {
    "tags": []
   },
   "outputs": [
    {
     "data": {
      "text/plain": [
       "['Addresses',\n",
       " 'Customer_Addresses',\n",
       " 'Customer_Orders',\n",
       " 'Customers',\n",
       " 'Department_Store_Chain',\n",
       " 'Department_Stores',\n",
       " 'Departments',\n",
       " 'Order_Items',\n",
       " 'Product_Suppliers',\n",
       " 'Products',\n",
       " 'Staff',\n",
       " 'Staff_Department_Assignments',\n",
       " 'Supplier_Addresses',\n",
       " 'Suppliers']"
      ]
     },
     "execution_count": 2,
     "metadata": {},
     "output_type": "execute_result"
    }
   ],
   "source": [
    "db = SQLDatabase.from_uri(\"sqlite:///data/department_store.sqlite\")\n",
    "db.get_usable_table_names()"
   ]
  },
  {
   "cell_type": "code",
   "execution_count": 3,
   "id": "ed8e08d3-4b3f-4e0c-82f6-7447d65de016",
   "metadata": {
    "tags": []
   },
   "outputs": [
    {
     "data": {
      "text/plain": [
       "\"[(1, 'Credit Card', '401', 'Ahmed', '75099 Tremblay Port Apt. 163\\\\nSouth Norrisland, SC 80546', '254-072-4068x33935', 'margarett.vonrueden@example.com'), (2, 'Credit Card', '665', 'Chauncey', '8408 Lindsay Court\\\\nEast Dasiabury, IL 72656-3552', '+41(8)1897032009', 'stiedemann.sigrid@example.com'), (3, 'Direct Debit', '844', 'Lukas', '7162 Rodolfo Knoll Apt. 502\\\\nLake Annalise, TN 35791-8871', '197-417-3557', 'joelle.monahan@example.com'), (4, 'Direct Debit', '662', 'Lexus', '9581 Will Flat Suite 272\\\\nEast Cathryn, WY 30751-4404', '+08(3)8056580281', 'gbrekke@example.com'), (5, 'Credit Card', '848', 'Tara', '5065 Mraz Fields Apt. 041\\\\nEast Chris, NH 41624', '1-064-498-6609x051', 'nicholas44@example.com'), (6, 'Credit Card', '916', 'Jon', '841 Goyette Unions\\\\nSouth Dionbury, NC 62021', '(443)013-3112x528', 'cconroy@example.net'), (7, 'Credit Card', '172', 'Cristobal', '8327 Christiansen Lakes Suite 409\\\\nSchneiderland, IA 93624', '877-150-8674x63517', 'shawna.cummerata@example.net'), (8, 'Direct Debit', '927', 'Adah', '5049 Hand Land\\\\nCoymouth, IL 97300-7731', '1-695-364-7586x59256', 'kathlyn24@example.org'), (9, 'Credit Card', '808', 'Yasmeen', '3558 Witting Meadow Apt. 483\\\\nLake Moriahbury, OH 91556-2122', '587.398.2400x31176', 'ludwig54@example.net'), (10, 'Credit Card', '887', 'Karson', '7308 Joan Lake Suite 346\\\\nLizethtown, DE 56522', '857-844-9339x40140', 'moriah91@example.com')]\""
      ]
     },
     "execution_count": 3,
     "metadata": {},
     "output_type": "execute_result"
    }
   ],
   "source": [
    "db.run(\"SELECT * FROM Customers LIMIT 10;\")"
   ]
  },
  {
   "cell_type": "markdown",
   "id": "50ea6a7a-9410-49dd-a3f0-15c3ae915236",
   "metadata": {},
   "source": [
    "### Langchain을 통한 DB 연결\n",
    "\n",
    "https://python.langchain.com/v0.1/docs/use_cases/sql/prompting/"
   ]
  },
  {
   "cell_type": "code",
   "execution_count": 4,
   "id": "65212550-34fa-44dc-8fce-c1cf8c3543eb",
   "metadata": {
    "tags": []
   },
   "outputs": [],
   "source": [
    "region_name = \"us-west-2\"\n",
    "\n",
    "model_kwargs = {  # anthropic\n",
    "    \"anthropic_version\": \"bedrock-2023-05-31\",\n",
    "    \"max_tokens\": 2048,\n",
    "    \"temperature\": 0,\n",
    "    \"stop_sequences\": [\"\\n\\nHuman\"]\n",
    "}\n",
    "\n",
    "llm = ChatBedrock(\n",
    "    model_id=\"anthropic.claude-3-sonnet-20240229-v1:0\",  # 파운데이션 모델 지정\n",
    "    model_kwargs=model_kwargs,\n",
    "    region_name=region_name,\n",
    "    streaming=True,\n",
    "    callbacks=[StreamingStdOutCallbackHandler()]\n",
    ")  # Claude 속성 구성"
   ]
  },
  {
   "cell_type": "code",
   "execution_count": 9,
   "id": "f2f731cc-624a-4271-bd97-8a1f1d99c597",
   "metadata": {
    "tags": []
   },
   "outputs": [],
   "source": [
    "chain = create_sql_query_chain(llm, db) | StrOutputParser()"
   ]
  },
  {
   "cell_type": "code",
   "execution_count": 10,
   "id": "9b1c7b5b-22c2-4587-b3cd-5aaaa4cd65c4",
   "metadata": {
    "tags": []
   },
   "outputs": [
    {
     "data": {
      "text/plain": [
       "PromptTemplate(input_variables=['input', 'table_info'], partial_variables={'top_k': '5'}, template='You are a SQLite expert. Given an input question, first create a syntactically correct SQLite query to run, then look at the results of the query and return the answer to the input question.\\nUnless the user specifies in the question a specific number of examples to obtain, query for at most {top_k} results using the LIMIT clause as per SQLite. You can order the results to return the most informative data in the database.\\nNever query for all columns from a table. You must query only the columns that are needed to answer the question. Wrap each column name in double quotes (\") to denote them as delimited identifiers.\\nPay attention to use only the column names you can see in the tables below. Be careful to not query for columns that do not exist. Also, pay attention to which column is in which table.\\nPay attention to use date(\\'now\\') function to get the current date, if the question involves \"today\".\\n\\nUse the following format:\\n\\nQuestion: Question here\\nSQLQuery: SQL Query to run\\nSQLResult: Result of the SQLQuery\\nAnswer: Final answer here\\n\\nOnly use the following tables:\\n{table_info}\\n\\nQuestion: {input}')"
      ]
     },
     "execution_count": 10,
     "metadata": {},
     "output_type": "execute_result"
    }
   ],
   "source": [
    "chain.get_prompts()[0]"
   ]
  },
  {
   "cell_type": "code",
   "execution_count": 11,
   "id": "5ff39195-22d0-4c6f-991d-a60567184026",
   "metadata": {
    "tags": []
   },
   "outputs": [
    {
     "name": "stdout",
     "output_type": "stream",
     "text": [
      "You are a SQLite expert. Given an input question, first create a syntactically correct SQLite query to run, then look at the results of the query and return the answer to the input question.\n",
      "Unless the user specifies in the question a specific number of examples to obtain, query for at most 5 results using the LIMIT clause as per SQLite. You can order the results to return the most informative data in the database.\n",
      "Never query for all columns from a table. You must query only the columns that are needed to answer the question. Wrap each column name in double quotes (\") to denote them as delimited identifiers.\n",
      "Pay attention to use only the column names you can see in the tables below. Be careful to not query for columns that do not exist. Also, pay attention to which column is in which table.\n",
      "Pay attention to use date('now') function to get the current date, if the question involves \"today\".\n",
      "\n",
      "Use the following format:\n",
      "\n",
      "Question: Question here\n",
      "SQLQuery: SQL Query to run\n",
      "SQLResult: Result of the SQLQuery\n",
      "Answer: Final answer here\n",
      "\n",
      "Only use the following tables:\n",
      "\u001b[33;1m\u001b[1;3m{table_info}\u001b[0m\n",
      "\n",
      "Question: \u001b[33;1m\u001b[1;3m{input}\u001b[0m\n"
     ]
    }
   ],
   "source": [
    "chain.get_prompts()[0].pretty_print()"
   ]
  },
  {
   "cell_type": "code",
   "execution_count": null,
   "id": "aa5b6bd8-ba9c-4ccd-8d95-d7e9e4d73165",
   "metadata": {
    "scrolled": true,
    "tags": []
   },
   "outputs": [],
   "source": [
    "context = db.get_context()\n",
    "print(list(context))\n",
    "print(context[\"table_info\"])"
   ]
  },
  {
   "cell_type": "code",
   "execution_count": null,
   "id": "7cd4c387-579e-41c7-a94e-c5eea5cef9b1",
   "metadata": {
    "scrolled": true,
    "tags": []
   },
   "outputs": [],
   "source": [
    "prompt_with_context = chain.get_prompts()[0].partial(table_info=context[\"table_info\"])\n",
    "print(prompt_with_context.pretty_repr()[:1500])"
   ]
  },
  {
   "cell_type": "markdown",
   "id": "fe3336fd-5b26-4818-8511-9724a56d3ee3",
   "metadata": {},
   "source": [
    "### Fewshot"
   ]
  },
  {
   "cell_type": "code",
   "execution_count": null,
   "id": "0a312571-6ec1-4a91-9990-56812d79781a",
   "metadata": {
    "tags": []
   },
   "outputs": [],
   "source": [
    "examples = [\n",
    "    {\n",
    "        \"input\": \"What are the ids of the top three products that were purchased in the largest amount?\", \n",
    "         \"query\": \"SELECT product_id FROM product_suppliers ORDER BY total_amount_purchased DESC LIMIT 3\"\n",
    "    },\n",
    "    {\n",
    "        \"input\": \"Give the ids of the three products purchased in the largest amounts.\",\n",
    "        \"query\": \"SELECT product_id FROM product_suppliers ORDER BY total_amount_purchased DESC LIMIT 3\"\n",
    "    },\n",
    "    {\n",
    "        \"input\": \"What are the product id and product type of the cheapest product?\",\n",
    "        \"query\": \"SELECT product_id ,  product_type_code FROM products ORDER BY product_price LIMIT 1\"\n",
    "    },\n",
    "    {\n",
    "        \"input\": \"Give the id and product type of the product with the lowest price.\",\n",
    "        \"query\": \"SELECT product_id ,  product_type_code FROM products ORDER BY product_price LIMIT 1\",\n",
    "    },\n",
    "    {\n",
    "        \"input\": \"Find the number of different product types.\",\n",
    "        \"query\": \"SELECT count(DISTINCT product_type_code) FROM products\"\n",
    "    }\n",
    "]"
   ]
  },
  {
   "cell_type": "code",
   "execution_count": null,
   "id": "04865fb4-d42e-4bff-a871-e513ddcb5b84",
   "metadata": {
    "tags": []
   },
   "outputs": [],
   "source": [
    "example_prompt = PromptTemplate.from_template(\"User input: {input}\\nSQL query: {query}\")\n",
    "prompt = FewShotPromptTemplate(\n",
    "    examples=examples[:5],\n",
    "    example_prompt=example_prompt,\n",
    "    prefix=\"You are a SQLite expert. Given an input question, create a syntactically correct SQLite query to run.\\nUnless otherwise specificed, do not return more than {top_k} rows.\\n\\nHere is the relevant table info: {table_info}\\n\\nBelow are a number of examples of questions and their corresponding SQL queries.\",\n",
    "    suffix=\"User input: {input}\\nSQL query: \\nSkip the preamble and go straight into the sql.\",\n",
    "    input_variables=[\"input\", \"top_k\", \"table_info\"],\n",
    ")"
   ]
  },
  {
   "cell_type": "code",
   "execution_count": null,
   "id": "0abca8bc-a6dc-4873-9690-4ab2f2d65ba5",
   "metadata": {
    "tags": []
   },
   "outputs": [],
   "source": [
    "print(prompt.format(input=\"How many artists are there?\", top_k=3, table_info=\"foo\"))"
   ]
  },
  {
   "cell_type": "code",
   "execution_count": null,
   "id": "463b5e0c-1ecd-4451-887e-2ef46a9ca1f9",
   "metadata": {
    "tags": []
   },
   "outputs": [],
   "source": [
    "chain = create_sql_query_chain(llm, db, prompt)\n",
    "chain.invoke({\"question\": \"How many artists are there?\"})"
   ]
  },
  {
   "cell_type": "code",
   "execution_count": null,
   "id": "86421aa2-c8ae-450a-9a63-eb6a4f24c2af",
   "metadata": {
    "tags": []
   },
   "outputs": [],
   "source": [
    "# chain = create_sql_query_chain(llm, db, prompt)\n",
    "chain = create_sql_query_chain(llm, db, prompt)\n",
    "result = chain.invoke({\"question\": \"Return the address of customer 10.\"})\n",
    "result"
   ]
  },
  {
   "cell_type": "code",
   "execution_count": null,
   "id": "dfe1efe6-a2ec-429e-8881-05feb193cd25",
   "metadata": {
    "tags": []
   },
   "outputs": [],
   "source": [
    "execute_query = QuerySQLDataBaseTool(db=db)\n",
    "chain = create_sql_query_chain(llm, db, prompt)\n",
    "\n",
    "chain = chain | execute_query\n",
    "chain.invoke({\"question\": \"Return the address of custor 10.\"})"
   ]
  },
  {
   "cell_type": "code",
   "execution_count": null,
   "id": "1f3816da-524f-485f-9354-47e97bafe9a1",
   "metadata": {},
   "outputs": [],
   "source": []
  },
  {
   "cell_type": "code",
   "execution_count": null,
   "id": "22602ac0-6811-477e-b529-249306d35099",
   "metadata": {},
   "outputs": [],
   "source": []
  },
  {
   "cell_type": "code",
   "execution_count": null,
   "id": "ca829d77-73ba-4312-86f0-ec5b94121a5f",
   "metadata": {},
   "outputs": [],
   "source": []
  }
 ],
 "metadata": {
  "kernelspec": {
   "display_name": "conda_python3",
   "language": "python",
   "name": "conda_python3"
  },
  "language_info": {
   "codemirror_mode": {
    "name": "ipython",
    "version": 3
   },
   "file_extension": ".py",
   "mimetype": "text/x-python",
   "name": "python",
   "nbconvert_exporter": "python",
   "pygments_lexer": "ipython3",
   "version": "3.10.14"
  }
 },
 "nbformat": 4,
 "nbformat_minor": 5
}
