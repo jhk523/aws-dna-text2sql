{
 "cells": [
  {
   "cell_type": "code",
   "execution_count": 3,
   "id": "fb4016e4-6bbf-441f-a07e-e9204c6b7584",
   "metadata": {},
   "outputs": [],
   "source": [
    "import os\n",
    "import sys\n",
    "from langchain.document_loaders.json_loader import JSONLoader\n",
    "from langchain.docstore.document import Document\n",
    "import json\n",
    "import re\n",
    "from langchain.vectorstores import FAISS\n",
    "from langchain.embeddings import BedrockEmbeddings\n",
    "from functools import reduce\n",
    "from langchain.prompts import PromptTemplate\n",
    "from sqlalchemy import MetaData\n",
    "from sqlalchemy import create_engine\n",
    "\n",
    "\n",
    "import re\n",
    "import pandas as pd\n",
    "import numpy as np\n",
    "import json\n",
    "import sqlite3\n",
    "\n",
    "data_path = './data'\n",
    "with open(f'{data_path}/tables.json', 'rb') as ofp:\n",
    "    meta = json.load(ofp)\n",
    "data = meta[0]\n",
    "\n",
    "data = [i for i in meta if i['db_id'] == 'department_store']\n",
    "\n",
    "data = data[0]\n",
    "columns = data[\"column_names_original\"]\n",
    "col_df = pd.DataFrame(columns).iloc[1:]\n",
    "col_df.rename(columns={0: 'table_idx', 1: 'col_name'}, inplace=True)\n",
    "col_df\n",
    "\n",
    "types_df = pd.DataFrame(data[\"column_types\"]).iloc[1:]\n",
    "types_df.rename(columns={0: 'type'}, inplace=True)\n",
    "types_df\n",
    "\n",
    "merged_col = pd.concat([col_df, types_df], axis=1)\n",
    "\n",
    "tables_df = pd.DataFrame(data[\"table_names_original\"])\n",
    "tables_df.reset_index(inplace=True)\n",
    "tables_df.columns = ['table_idx', 'table_name']\n",
    "\n",
    "meta = pd.merge(tables_df, merged_col, on=['table_idx'])\n",
    "meta = meta.drop(columns=['table_idx'])"
   ]
  },
  {
   "cell_type": "code",
   "execution_count": 6,
   "id": "be446718-6e30-4f5e-9733-39461bcb146f",
   "metadata": {
    "tags": []
   },
   "outputs": [],
   "source": [
    "from botocore.config import Config\n",
    "import boto3\n",
    "DB_NAME = \"text2sql\"\n",
    "DB_FAISS_PATH = './vectorstore/db_faiss'\n",
    "\n",
    "bedrock_region = athena_region = boto3.session.Session().region_name\n",
    "retry_config = Config(retries = {'max_attempts': 100})\n",
    "session = boto3.Session(region_name=bedrock_region)\n",
    "bedrock = session.client('bedrock-runtime', region_name=bedrock_region, config=retry_config)"
   ]
  },
  {
   "cell_type": "code",
   "execution_count": 28,
   "id": "c0460809-61ef-49cd-9087-b62ab6f3d699",
   "metadata": {
    "tags": []
   },
   "outputs": [
    {
     "data": {
      "text/html": [
       "<div>\n",
       "<style scoped>\n",
       "    .dataframe tbody tr th:only-of-type {\n",
       "        vertical-align: middle;\n",
       "    }\n",
       "\n",
       "    .dataframe tbody tr th {\n",
       "        vertical-align: top;\n",
       "    }\n",
       "\n",
       "    .dataframe thead th {\n",
       "        text-align: right;\n",
       "    }\n",
       "</style>\n",
       "<table border=\"1\" class=\"dataframe\">\n",
       "  <thead>\n",
       "    <tr style=\"text-align: right;\">\n",
       "      <th></th>\n",
       "      <th>tableName</th>\n",
       "      <th>question</th>\n",
       "      <th>tableSchema</th>\n",
       "    </tr>\n",
       "  </thead>\n",
       "  <tbody>\n",
       "    <tr>\n",
       "      <th>0</th>\n",
       "      <td>Order_Items</td>\n",
       "      <td>• 1. What is the total number of unique orders...</td>\n",
       "      <td>order_item_id|order_id|product_id</td>\n",
       "    </tr>\n",
       "    <tr>\n",
       "      <th>1</th>\n",
       "      <td>Order_Items</td>\n",
       "      <td>• 2. Which products were included in a specifi...</td>\n",
       "      <td>order_item_id|order_id|product_id</td>\n",
       "    </tr>\n",
       "    <tr>\n",
       "      <th>2</th>\n",
       "      <td>Order_Items</td>\n",
       "      <td>• 3. How many times was a particular product o...</td>\n",
       "      <td>order_item_id|order_id|product_id</td>\n",
       "    </tr>\n",
       "    <tr>\n",
       "      <th>3</th>\n",
       "      <td>Order_Items</td>\n",
       "      <td>• 4. Can we identify the most frequently order...</td>\n",
       "      <td>order_item_id|order_id|product_id</td>\n",
       "    </tr>\n",
       "    <tr>\n",
       "      <th>4</th>\n",
       "      <td>Order_Items</td>\n",
       "      <td>• 5. What is the distribution of order sizes (...</td>\n",
       "      <td>order_item_id|order_id|product_id</td>\n",
       "    </tr>\n",
       "    <tr>\n",
       "      <th>...</th>\n",
       "      <td>...</td>\n",
       "      <td>...</td>\n",
       "      <td>...</td>\n",
       "    </tr>\n",
       "    <tr>\n",
       "      <th>5</th>\n",
       "      <td>Customer_Addresses</td>\n",
       "      <td>Which customers have had the most frequent ad...</td>\n",
       "      <td>customer_id|address_id|date_from|date_to</td>\n",
       "    </tr>\n",
       "    <tr>\n",
       "      <th>6</th>\n",
       "      <td>Customer_Addresses</td>\n",
       "      <td>How does the frequency of address changes var...</td>\n",
       "      <td>customer_id|address_id|date_from|date_to</td>\n",
       "    </tr>\n",
       "    <tr>\n",
       "      <th>7</th>\n",
       "      <td>Customer_Addresses</td>\n",
       "      <td>Can you identify any patterns or trends in th...</td>\n",
       "      <td>customer_id|address_id|date_from|date_to</td>\n",
       "    </tr>\n",
       "    <tr>\n",
       "      <th>8</th>\n",
       "      <td>Customer_Addresses</td>\n",
       "      <td>What is the average duration of an address as...</td>\n",
       "      <td>customer_id|address_id|date_from|date_to</td>\n",
       "    </tr>\n",
       "    <tr>\n",
       "      <th>9</th>\n",
       "      <td>Customer_Addresses</td>\n",
       "      <td>Which customers have had gaps or overlaps in ...</td>\n",
       "      <td>customer_id|address_id|date_from|date_to</td>\n",
       "    </tr>\n",
       "  </tbody>\n",
       "</table>\n",
       "<p>140 rows × 3 columns</p>\n",
       "</div>"
      ],
      "text/plain": [
       "             tableName                                           question  \\\n",
       "0          Order_Items  • 1. What is the total number of unique orders...   \n",
       "1          Order_Items  • 2. Which products were included in a specifi...   \n",
       "2          Order_Items  • 3. How many times was a particular product o...   \n",
       "3          Order_Items  • 4. Can we identify the most frequently order...   \n",
       "4          Order_Items  • 5. What is the distribution of order sizes (...   \n",
       "..                 ...                                                ...   \n",
       "5   Customer_Addresses   Which customers have had the most frequent ad...   \n",
       "6   Customer_Addresses   How does the frequency of address changes var...   \n",
       "7   Customer_Addresses   Can you identify any patterns or trends in th...   \n",
       "8   Customer_Addresses   What is the average duration of an address as...   \n",
       "9   Customer_Addresses   Which customers have had gaps or overlaps in ...   \n",
       "\n",
       "                                 tableSchema  \n",
       "0          order_item_id|order_id|product_id  \n",
       "1          order_item_id|order_id|product_id  \n",
       "2          order_item_id|order_id|product_id  \n",
       "3          order_item_id|order_id|product_id  \n",
       "4          order_item_id|order_id|product_id  \n",
       "..                                       ...  \n",
       "5   customer_id|address_id|date_from|date_to  \n",
       "6   customer_id|address_id|date_from|date_to  \n",
       "7   customer_id|address_id|date_from|date_to  \n",
       "8   customer_id|address_id|date_from|date_to  \n",
       "9   customer_id|address_id|date_from|date_to  \n",
       "\n",
       "[140 rows x 3 columns]"
      ]
     },
     "execution_count": 28,
     "metadata": {},
     "output_type": "execute_result"
    }
   ],
   "source": [
    "files = os.listdir('./data/rag')\n",
    "df = pd.DataFrame()\n",
    "\n",
    "for f_name in files:\n",
    "    with open(f'./data/rag/{f_name}', 'rb') as ofp:\n",
    "        df_tmp = pd.DataFrame(json.load(ofp))\n",
    "        df = pd.concat([df, df_tmp])\n",
    "\n",
    "df"
   ]
  },
  {
   "cell_type": "code",
   "execution_count": 29,
   "id": "a6de0c7e-d022-41d4-86a7-d1e27c883e79",
   "metadata": {
    "tags": []
   },
   "outputs": [
    {
     "data": {
      "text/html": [
       "<div>\n",
       "<style scoped>\n",
       "    .dataframe tbody tr th:only-of-type {\n",
       "        vertical-align: middle;\n",
       "    }\n",
       "\n",
       "    .dataframe tbody tr th {\n",
       "        vertical-align: top;\n",
       "    }\n",
       "\n",
       "    .dataframe thead th {\n",
       "        text-align: right;\n",
       "    }\n",
       "</style>\n",
       "<table border=\"1\" class=\"dataframe\">\n",
       "  <thead>\n",
       "    <tr style=\"text-align: right;\">\n",
       "      <th></th>\n",
       "      <th>tableName</th>\n",
       "      <th>question</th>\n",
       "      <th>tableSchema</th>\n",
       "      <th>text</th>\n",
       "    </tr>\n",
       "  </thead>\n",
       "  <tbody>\n",
       "    <tr>\n",
       "      <th>0</th>\n",
       "      <td>Order_Items</td>\n",
       "      <td>• 1. What is the total number of unique orders...</td>\n",
       "      <td>order_item_id|order_id|product_id</td>\n",
       "      <td>tableName: Order_Items,question: • 1. What is ...</td>\n",
       "    </tr>\n",
       "    <tr>\n",
       "      <th>1</th>\n",
       "      <td>Order_Items</td>\n",
       "      <td>• 2. Which products were included in a specifi...</td>\n",
       "      <td>order_item_id|order_id|product_id</td>\n",
       "      <td>tableName: Order_Items,question: • 2. Which pr...</td>\n",
       "    </tr>\n",
       "    <tr>\n",
       "      <th>2</th>\n",
       "      <td>Order_Items</td>\n",
       "      <td>• 3. How many times was a particular product o...</td>\n",
       "      <td>order_item_id|order_id|product_id</td>\n",
       "      <td>tableName: Order_Items,question: • 3. How many...</td>\n",
       "    </tr>\n",
       "    <tr>\n",
       "      <th>3</th>\n",
       "      <td>Order_Items</td>\n",
       "      <td>• 4. Can we identify the most frequently order...</td>\n",
       "      <td>order_item_id|order_id|product_id</td>\n",
       "      <td>tableName: Order_Items,question: • 4. Can we i...</td>\n",
       "    </tr>\n",
       "    <tr>\n",
       "      <th>4</th>\n",
       "      <td>Order_Items</td>\n",
       "      <td>• 5. What is the distribution of order sizes (...</td>\n",
       "      <td>order_item_id|order_id|product_id</td>\n",
       "      <td>tableName: Order_Items,question: • 5. What is ...</td>\n",
       "    </tr>\n",
       "    <tr>\n",
       "      <th>5</th>\n",
       "      <td>Order_Items</td>\n",
       "      <td>• 6. Which orders contained multiple instances...</td>\n",
       "      <td>order_item_id|order_id|product_id</td>\n",
       "      <td>tableName: Order_Items,question: • 6. Which or...</td>\n",
       "    </tr>\n",
       "    <tr>\n",
       "      <th>6</th>\n",
       "      <td>Order_Items</td>\n",
       "      <td>• 7. How can we identify potential duplicate o...</td>\n",
       "      <td>order_item_id|order_id|product_id</td>\n",
       "      <td>tableName: Order_Items,question: • 7. How can ...</td>\n",
       "    </tr>\n",
       "    <tr>\n",
       "      <th>7</th>\n",
       "      <td>Order_Items</td>\n",
       "      <td>• 8. What is the chronological sequence of ord...</td>\n",
       "      <td>order_item_id|order_id|product_id</td>\n",
       "      <td>tableName: Order_Items,question: • 8. What is ...</td>\n",
       "    </tr>\n",
       "    <tr>\n",
       "      <th>8</th>\n",
       "      <td>Order_Items</td>\n",
       "      <td>• 9. Can we determine the most popular product...</td>\n",
       "      <td>order_item_id|order_id|product_id</td>\n",
       "      <td>tableName: Order_Items,question: • 9. Can we d...</td>\n",
       "    </tr>\n",
       "    <tr>\n",
       "      <th>9</th>\n",
       "      <td>Order_Items</td>\n",
       "      <td>• 10. Which orders had the highest number of d...</td>\n",
       "      <td>order_item_id|order_id|product_id</td>\n",
       "      <td>tableName: Order_Items,question: • 10. Which o...</td>\n",
       "    </tr>\n",
       "  </tbody>\n",
       "</table>\n",
       "</div>"
      ],
      "text/plain": [
       "     tableName                                           question  \\\n",
       "0  Order_Items  • 1. What is the total number of unique orders...   \n",
       "1  Order_Items  • 2. Which products were included in a specifi...   \n",
       "2  Order_Items  • 3. How many times was a particular product o...   \n",
       "3  Order_Items  • 4. Can we identify the most frequently order...   \n",
       "4  Order_Items  • 5. What is the distribution of order sizes (...   \n",
       "5  Order_Items  • 6. Which orders contained multiple instances...   \n",
       "6  Order_Items  • 7. How can we identify potential duplicate o...   \n",
       "7  Order_Items  • 8. What is the chronological sequence of ord...   \n",
       "8  Order_Items  • 9. Can we determine the most popular product...   \n",
       "9  Order_Items  • 10. Which orders had the highest number of d...   \n",
       "\n",
       "                         tableSchema  \\\n",
       "0  order_item_id|order_id|product_id   \n",
       "1  order_item_id|order_id|product_id   \n",
       "2  order_item_id|order_id|product_id   \n",
       "3  order_item_id|order_id|product_id   \n",
       "4  order_item_id|order_id|product_id   \n",
       "5  order_item_id|order_id|product_id   \n",
       "6  order_item_id|order_id|product_id   \n",
       "7  order_item_id|order_id|product_id   \n",
       "8  order_item_id|order_id|product_id   \n",
       "9  order_item_id|order_id|product_id   \n",
       "\n",
       "                                                text  \n",
       "0  tableName: Order_Items,question: • 1. What is ...  \n",
       "1  tableName: Order_Items,question: • 2. Which pr...  \n",
       "2  tableName: Order_Items,question: • 3. How many...  \n",
       "3  tableName: Order_Items,question: • 4. Can we i...  \n",
       "4  tableName: Order_Items,question: • 5. What is ...  \n",
       "5  tableName: Order_Items,question: • 6. Which or...  \n",
       "6  tableName: Order_Items,question: • 7. How can ...  \n",
       "7  tableName: Order_Items,question: • 8. What is ...  \n",
       "8  tableName: Order_Items,question: • 9. Can we d...  \n",
       "9  tableName: Order_Items,question: • 10. Which o...  "
      ]
     },
     "execution_count": 29,
     "metadata": {},
     "output_type": "execute_result"
    }
   ],
   "source": [
    "import pandas as pd\n",
    "\n",
    "\n",
    "def create_text(row, max_len=509):\n",
    "    text = \"\"\n",
    "    for col, val in row.items():\n",
    "        text += f\"{col}: {val},\"\n",
    "    if len(text) > max_len:\n",
    "        text = text[:max_len] + \"...\"\n",
    "\n",
    "    # print(text.rstrip(\"\\n\"))\n",
    "    return text.rstrip()\n",
    "\n",
    "\n",
    "# Assuming your DataFrame is called 'df'\n",
    "df[\"text\"] = df.apply(create_text, axis=1)\n",
    "df.head(10)"
   ]
  },
  {
   "cell_type": "code",
   "execution_count": 30,
   "id": "4466144d-ee8c-4cc0-874d-ad3d26966883",
   "metadata": {
    "tags": []
   },
   "outputs": [
    {
     "data": {
      "text/plain": [
       "tableName      0\n",
       "question       0\n",
       "tableSchema    0\n",
       "text           0\n",
       "dtype: int64"
      ]
     },
     "execution_count": 30,
     "metadata": {},
     "output_type": "execute_result"
    }
   ],
   "source": [
    "# Find all items in df  with plot value longer than 512 characters\n",
    "def find_long_plot_items(df):\n",
    "    long_plot_items = df[df[\"text\"].str.len() > 512]\n",
    "    return long_plot_items\n",
    "\n",
    "\n",
    "find_long_plot_items(df).count()"
   ]
  },
  {
   "cell_type": "code",
   "execution_count": 10,
   "id": "d985a465-fea3-405a-88d3-e1e48743e0ad",
   "metadata": {
    "tags": []
   },
   "outputs": [],
   "source": [
    "def get_cfn_outputs(stackname, cfn):\n",
    "    outputs = {}\n",
    "    for output in cfn.describe_stacks(StackName=stackname)[\"Stacks\"][0][\"Outputs\"]:\n",
    "        outputs[output[\"OutputKey\"]] = output[\"OutputValue\"]\n",
    "    return outputs"
   ]
  },
  {
   "cell_type": "code",
   "execution_count": 11,
   "id": "4037a0a5-ea13-47d5-9444-bb7337b3cdab",
   "metadata": {
    "tags": []
   },
   "outputs": [
    {
     "data": {
      "text/plain": [
       "'search-opensearch-workshop-hispcszxbt5gc2yzbjrilid77q.us-west-2.es.amazonaws.com'"
      ]
     },
     "execution_count": 11,
     "metadata": {},
     "output_type": "execute_result"
    }
   ],
   "source": [
    "import boto3, json\n",
    "\n",
    "\n",
    "region_name = \"us-west-2\"\n",
    "\n",
    "cfn = boto3.client(\"cloudformation\", region_name)\n",
    "kms = boto3.client(\"secretsmanager\", region_name)\n",
    "\n",
    "stackname = \"opensearch-workshop\"\n",
    "cfn_outputs = get_cfn_outputs(stackname, cfn)\n",
    "\n",
    "aos_credentials = json.loads(\n",
    "    kms.get_secret_value(SecretId=cfn_outputs[\"OpenSearchSecret\"])[\"SecretString\"]\n",
    ")\n",
    "\n",
    "aos_host = cfn_outputs[\"OpenSearchDomainEndpoint\"]\n",
    "aos_host"
   ]
  },
  {
   "cell_type": "code",
   "execution_count": 12,
   "id": "793dbfd0-c978-4f6e-8f2c-016b364c831e",
   "metadata": {
    "tags": []
   },
   "outputs": [],
   "source": [
    "from opensearchpy import OpenSearch, RequestsHttpConnection, AWSV4SignerAuth\n",
    "\n",
    "auth = (aos_credentials[\"username\"], aos_credentials[\"password\"])\n",
    "\n",
    "aos_client = OpenSearch(\n",
    "    hosts=[{\"host\": aos_host, \"port\": 443}],\n",
    "    http_auth=auth,\n",
    "    use_ssl=True,\n",
    "    verify_certs=True,\n",
    "    connection_class=RequestsHttpConnection,\n",
    ")"
   ]
  },
  {
   "cell_type": "code",
   "execution_count": 13,
   "id": "5caaa65f-d956-4199-bbd8-b325caf7a7d0",
   "metadata": {
    "tags": []
   },
   "outputs": [
    {
     "data": {
      "text/plain": [
       "'R25VV5ABxRR9v61Qh50K'"
      ]
     },
     "execution_count": 13,
     "metadata": {},
     "output_type": "execute_result"
    }
   ],
   "source": [
    "import requests\n",
    "\n",
    "search_model = {\"query\": {\"match\": {\"name\": \"OpenSearch-Cohere\"}}, \"size\": 10}\n",
    "\n",
    "response = requests.get(\n",
    "    \"https://\" + aos_host + \"/_plugins/_ml/models/_search\", auth=auth, json=search_model\n",
    ")\n",
    "model_info = json.loads(response.text)\n",
    "model_id = model_info[\"hits\"][\"hits\"][0][\"_id\"]\n",
    "model_id"
   ]
  },
  {
   "cell_type": "code",
   "execution_count": 33,
   "id": "78a3683b-8bcf-4955-82ba-58918f96713b",
   "metadata": {
    "tags": []
   },
   "outputs": [
    {
     "data": {
      "text/plain": [
       "{'acknowledged': True}"
      ]
     },
     "execution_count": 33,
     "metadata": {},
     "output_type": "execute_result"
    }
   ],
   "source": [
    "pipeline = {\n",
    "    \"description\": \"An neural search pipeline for movie index - OpenSearch-cohere-060124084807\",\n",
    "    \"processors\": [\n",
    "        {\n",
    "            \"text_embedding\": {\n",
    "                \"model_id\": model_id,\n",
    "                \"field_map\": {\n",
    "                    \"text\": \"vector_field\",\n",
    "                },\n",
    "            }\n",
    "        }\n",
    "    ],\n",
    "}\n",
    "\n",
    "pipeline_id = \"text2sql_plot\"\n",
    "# aos_client.ingest.delete_pipeline(id=pipeline_id)\n",
    "aos_client.ingest.put_pipeline(id=pipeline_id, body=pipeline)"
   ]
  },
  {
   "cell_type": "code",
   "execution_count": 62,
   "id": "5bc01b75-7a5e-4965-9502-b897b6c48ec7",
   "metadata": {
    "tags": []
   },
   "outputs": [],
   "source": [
    "index_name = \"rag_semantic_ver1\""
   ]
  },
  {
   "cell_type": "code",
   "execution_count": 63,
   "id": "a8297969-1bb2-45d8-a6cf-a246be2ce765",
   "metadata": {
    "tags": []
   },
   "outputs": [
    {
     "data": {
      "text/plain": [
       "{'acknowledged': True}"
      ]
     },
     "execution_count": 63,
     "metadata": {},
     "output_type": "execute_result"
    }
   ],
   "source": [
    "aos_client.indices.delete(index=index_name)"
   ]
  },
  {
   "cell_type": "code",
   "execution_count": 64,
   "id": "53b76fd9-4d23-4506-8f03-6d2e2368cefe",
   "metadata": {
    "tags": []
   },
   "outputs": [
    {
     "data": {
      "text/plain": [
       "{'acknowledged': True,\n",
       " 'shards_acknowledged': True,\n",
       " 'index': 'rag_semantic_ver1'}"
      ]
     },
     "execution_count": 64,
     "metadata": {},
     "output_type": "execute_result"
    }
   ],
   "source": [
    "rag_semantic = {\n",
    "    \"settings\": {\n",
    "        \"max_result_window\": 15000,\n",
    "        # \"analysis\": {\"analyzer\": {\"analysis-nori\": {\"type\": \"nori\", \"stopwords\": \"_korean_\"}}},\n",
    "        \"index.knn\": True,\n",
    "        \"default_pipeline\": pipeline_id,\n",
    "        \"index.knn.space_type\": \"l2\",\n",
    "    },\n",
    "    \"mappings\": {\n",
    "        \"properties\": {\n",
    "            \"tableName\": {\n",
    "                \"type\": \"text\",\n",
    "                \"fields\": {\n",
    "                          \"english\": {\n",
    "                            \"type\": \"text\",\n",
    "                            \"analyzer\": \"english\"},                \n",
    "                            },\n",
    "            },\n",
    "            \"question\": {\n",
    "                \"type\": \"text\",\n",
    "                \"fields\": {\n",
    "                          \"english\": {\n",
    "                            \"type\": \"text\",\n",
    "                            \"analyzer\": \"english\"},                \n",
    "                            },                \n",
    "            },\n",
    "            \"tableSchema\": {\n",
    "                \"type\": \"text\",\n",
    "                \"fields\": {\n",
    "                          \"english\": {\n",
    "                            \"type\": \"text\",\n",
    "                            \"analyzer\": \"english\"},                \n",
    "                            },     #{\"keyword\": {\"type\": \"keyword\", \"ignore_above\": 256}},\n",
    "            },\n",
    "            \"vector_field\": {\n",
    "                \"type\": \"knn_vector\",\n",
    "                \"dimension\": 1024,\n",
    "                \"method\": {\"name\": \"hnsw\", \"space_type\": \"l2\", \"engine\": \"faiss\"},\n",
    "                \"store\": True,\n",
    "            },\n",
    "\n",
    "        }\n",
    "    },\n",
    "}\n",
    "\n",
    "\n",
    "\n",
    "aos_client.indices.create(index=index_name, body=rag_semantic)"
   ]
  },
  {
   "cell_type": "code",
   "execution_count": 65,
   "id": "02ddd989-007b-4427-a6af-e3e4a42f7f67",
   "metadata": {
    "tags": []
   },
   "outputs": [],
   "source": [
    "from tqdm import tqdm\n",
    "from opensearchpy import helpers\n",
    "\n",
    "json_data = df.to_json(orient=\"records\", lines=True)\n",
    "docs = json_data.split(\"\\n\")[:-1]  # To remove the last empty line\n",
    "\n",
    "\n",
    "def _generate_data():\n",
    "    for doc in docs:\n",
    "        yield {\"_index\": index_name, \"_source\": doc}\n",
    "\n",
    "\n",
    "succeeded = []\n",
    "failed = []\n",
    "for success, item in helpers.parallel_bulk(\n",
    "    aos_client, actions=_generate_data(), chunk_size=10, thread_count=1, queue_size=1\n",
    "):\n",
    "    if success:\n",
    "        succeeded.append(item)\n",
    "    else:\n",
    "        failed.append(item)"
   ]
  },
  {
   "cell_type": "code",
   "execution_count": 66,
   "id": "19cdd6dd-0bda-4358-8904-2cad6b1e37b3",
   "metadata": {
    "tags": []
   },
   "outputs": [
    {
     "name": "stdout",
     "output_type": "stream",
     "text": [
      "{'count': 140, '_shards': {'total': 5, 'successful': 5, 'skipped': 0, 'failed': 0}}\n"
     ]
    }
   ],
   "source": [
    "# Refresh the index to make the changes visible\n",
    "aos_client.indices.refresh(index=index_name)\n",
    "\n",
    "count = aos_client.count(index=index_name)\n",
    "print(count)"
   ]
  },
  {
   "cell_type": "code",
   "execution_count": 67,
   "id": "97907f5f-52b8-4a0a-9553-cbcf66811d8a",
   "metadata": {
    "tags": []
   },
   "outputs": [],
   "source": [
    "def keyword_search(query_text):\n",
    "    query = {\n",
    "        \"size\": 10,\n",
    "        \"_source\": {\"excludes\": [\"vector_field\"]},\n",
    "        \"query\": {\n",
    "            \"multi_match\": {\n",
    "                \"query\": query_text,\n",
    "                \"fields\": [\"tableName\", \"question\", \"tableSchema\"],\n",
    "            }\n",
    "        },\n",
    "    }\n",
    "\n",
    "    res = aos_client.search(index=index_name, body=query)\n",
    "\n",
    "    query_result = []\n",
    "    for hit in res[\"hits\"][\"hits\"]:\n",
    "        row = [\n",
    "            hit[\"_score\"],\n",
    "            hit[\"_source\"][\"tableName\"],\n",
    "            hit[\"_source\"][\"question\"],\n",
    "            hit[\"_source\"][\"tableSchema\"],            \n",
    "        ]\n",
    "        query_result.append(row)\n",
    "\n",
    "    query_result_df = pd.DataFrame(\n",
    "        data=query_result, columns=[\"_score\", \"tableName\", \"question\", \"tableSchema\"]\n",
    "    )\n",
    "    display(query_result_df)"
   ]
  },
  {
   "cell_type": "code",
   "execution_count": 75,
   "id": "9b098589-2187-4bc6-982a-2e5feb0a2925",
   "metadata": {
    "tags": []
   },
   "outputs": [
    {
     "data": {
      "text/html": [
       "<div>\n",
       "<style scoped>\n",
       "    .dataframe tbody tr th:only-of-type {\n",
       "        vertical-align: middle;\n",
       "    }\n",
       "\n",
       "    .dataframe tbody tr th {\n",
       "        vertical-align: top;\n",
       "    }\n",
       "\n",
       "    .dataframe thead th {\n",
       "        text-align: right;\n",
       "    }\n",
       "</style>\n",
       "<table border=\"1\" class=\"dataframe\">\n",
       "  <thead>\n",
       "    <tr style=\"text-align: right;\">\n",
       "      <th></th>\n",
       "      <th>_score</th>\n",
       "      <th>tableName</th>\n",
       "      <th>question</th>\n",
       "      <th>tableSchema</th>\n",
       "    </tr>\n",
       "  </thead>\n",
       "  <tbody>\n",
       "  </tbody>\n",
       "</table>\n",
       "</div>"
      ],
      "text/plain": [
       "Empty DataFrame\n",
       "Columns: [_score, tableName, question, tableSchema]\n",
       "Index: []"
      ]
     },
     "metadata": {},
     "output_type": "display_data"
    }
   ],
   "source": [
    "query_text = \"aws 전화번호 알려줘\"\n",
    "keyword_search(query_text)"
   ]
  },
  {
   "cell_type": "code",
   "execution_count": 76,
   "id": "d49b4bb8-3685-49bb-b843-996606da8c4b",
   "metadata": {
    "tags": []
   },
   "outputs": [],
   "source": [
    "def semantic_search(query_text):\n",
    "    query = {\n",
    "        \"size\": 10,\n",
    "        \"_source\": {\"excludes\": [\"vector_field\"]},\n",
    "        \"query\": {\n",
    "            \"neural\": {\"vector_field\": {\"query_text\": query_text, \"model_id\": model_id, \"k\": 10}},\n",
    "        },\n",
    "    }\n",
    "\n",
    "    res = aos_client.search(index=index_name, body=query)\n",
    "\n",
    "    query_result = []\n",
    "    for hit in res[\"hits\"][\"hits\"]:\n",
    "        row = [\n",
    "            hit[\"_score\"],\n",
    "            hit[\"_source\"][\"tableName\"],\n",
    "            hit[\"_source\"][\"question\"],\n",
    "            hit[\"_source\"][\"tableSchema\"],            \n",
    "        ]\n",
    "        query_result.append(row)\n",
    "\n",
    "    query_result_df = pd.DataFrame(\n",
    "        data=query_result, columns=[\"_score\", \"tableName\", \"question\", \"tableSchema\"]\n",
    "    )\n",
    "    display(query_result_df)"
   ]
  },
  {
   "cell_type": "code",
   "execution_count": 77,
   "id": "16abd677-4fca-417d-9013-0ecfc5bb0480",
   "metadata": {
    "tags": []
   },
   "outputs": [
    {
     "data": {
      "text/html": [
       "<div>\n",
       "<style scoped>\n",
       "    .dataframe tbody tr th:only-of-type {\n",
       "        vertical-align: middle;\n",
       "    }\n",
       "\n",
       "    .dataframe tbody tr th {\n",
       "        vertical-align: top;\n",
       "    }\n",
       "\n",
       "    .dataframe thead th {\n",
       "        text-align: right;\n",
       "    }\n",
       "</style>\n",
       "<table border=\"1\" class=\"dataframe\">\n",
       "  <thead>\n",
       "    <tr style=\"text-align: right;\">\n",
       "      <th></th>\n",
       "      <th>_score</th>\n",
       "      <th>tableName</th>\n",
       "      <th>question</th>\n",
       "      <th>tableSchema</th>\n",
       "    </tr>\n",
       "  </thead>\n",
       "  <tbody>\n",
       "    <tr>\n",
       "      <th>0</th>\n",
       "      <td>0.528255</td>\n",
       "      <td>Suppliers</td>\n",
       "      <td>• 2. Which suppliers have a phone number listed?</td>\n",
       "      <td>supplier_id|supplier_name|supplier_phone</td>\n",
       "    </tr>\n",
       "    <tr>\n",
       "      <th>1</th>\n",
       "      <td>0.517891</td>\n",
       "      <td>Suppliers</td>\n",
       "      <td>• 4. Can you provide a list of suppliers sorte...</td>\n",
       "      <td>supplier_id|supplier_name|supplier_phone</td>\n",
       "    </tr>\n",
       "    <tr>\n",
       "      <th>2</th>\n",
       "      <td>0.509304</td>\n",
       "      <td>Addresses</td>\n",
       "      <td>• 1. What is the total number of unique addres...</td>\n",
       "      <td>address_id|address_details</td>\n",
       "    </tr>\n",
       "    <tr>\n",
       "      <th>3</th>\n",
       "      <td>0.506874</td>\n",
       "      <td>Addresses</td>\n",
       "      <td>• 4. Can you provide a list of addresses that ...</td>\n",
       "      <td>address_id|address_details</td>\n",
       "    </tr>\n",
       "    <tr>\n",
       "      <th>4</th>\n",
       "      <td>0.502813</td>\n",
       "      <td>Staff</td>\n",
       "      <td>• 4. Can you provide a breakdown of the staff ...</td>\n",
       "      <td>staff_id|staff_gender|staff_name</td>\n",
       "    </tr>\n",
       "    <tr>\n",
       "      <th>5</th>\n",
       "      <td>0.499103</td>\n",
       "      <td>Suppliers</td>\n",
       "      <td>• 8. Can you identify any suppliers with dupli...</td>\n",
       "      <td>supplier_id|supplier_name|supplier_phone</td>\n",
       "    </tr>\n",
       "    <tr>\n",
       "      <th>6</th>\n",
       "      <td>0.495068</td>\n",
       "      <td>Suppliers</td>\n",
       "      <td>• 10. Which suppliers have phone numbers with ...</td>\n",
       "      <td>supplier_id|supplier_name|supplier_phone</td>\n",
       "    </tr>\n",
       "    <tr>\n",
       "      <th>7</th>\n",
       "      <td>0.494885</td>\n",
       "      <td>Addresses</td>\n",
       "      <td>• 2. Which addresses have been recently added ...</td>\n",
       "      <td>address_id|address_details</td>\n",
       "    </tr>\n",
       "    <tr>\n",
       "      <th>8</th>\n",
       "      <td>0.490502</td>\n",
       "      <td>Suppliers</td>\n",
       "      <td>• 1. What are the names of all the suppliers i...</td>\n",
       "      <td>supplier_id|supplier_name|supplier_phone</td>\n",
       "    </tr>\n",
       "    <tr>\n",
       "      <th>9</th>\n",
       "      <td>0.489407</td>\n",
       "      <td>Suppliers</td>\n",
       "      <td>• 7. How many suppliers have a phone number th...</td>\n",
       "      <td>supplier_id|supplier_name|supplier_phone</td>\n",
       "    </tr>\n",
       "  </tbody>\n",
       "</table>\n",
       "</div>"
      ],
      "text/plain": [
       "     _score  tableName                                           question  \\\n",
       "0  0.528255  Suppliers   • 2. Which suppliers have a phone number listed?   \n",
       "1  0.517891  Suppliers  • 4. Can you provide a list of suppliers sorte...   \n",
       "2  0.509304  Addresses  • 1. What is the total number of unique addres...   \n",
       "3  0.506874  Addresses  • 4. Can you provide a list of addresses that ...   \n",
       "4  0.502813      Staff  • 4. Can you provide a breakdown of the staff ...   \n",
       "5  0.499103  Suppliers  • 8. Can you identify any suppliers with dupli...   \n",
       "6  0.495068  Suppliers  • 10. Which suppliers have phone numbers with ...   \n",
       "7  0.494885  Addresses  • 2. Which addresses have been recently added ...   \n",
       "8  0.490502  Suppliers  • 1. What are the names of all the suppliers i...   \n",
       "9  0.489407  Suppliers  • 7. How many suppliers have a phone number th...   \n",
       "\n",
       "                                tableSchema  \n",
       "0  supplier_id|supplier_name|supplier_phone  \n",
       "1  supplier_id|supplier_name|supplier_phone  \n",
       "2                address_id|address_details  \n",
       "3                address_id|address_details  \n",
       "4          staff_id|staff_gender|staff_name  \n",
       "5  supplier_id|supplier_name|supplier_phone  \n",
       "6  supplier_id|supplier_name|supplier_phone  \n",
       "7                address_id|address_details  \n",
       "8  supplier_id|supplier_name|supplier_phone  \n",
       "9  supplier_id|supplier_name|supplier_phone  "
      ]
     },
     "metadata": {},
     "output_type": "display_data"
    }
   ],
   "source": [
    "semantic_search(query_text)"
   ]
  },
  {
   "cell_type": "code",
   "execution_count": null,
   "id": "c9e08a89-d0c2-4ad0-8d24-5541f312c09c",
   "metadata": {},
   "outputs": [],
   "source": []
  }
 ],
 "metadata": {
  "kernelspec": {
   "display_name": "conda_python3",
   "language": "python",
   "name": "conda_python3"
  },
  "language_info": {
   "codemirror_mode": {
    "name": "ipython",
    "version": 3
   },
   "file_extension": ".py",
   "mimetype": "text/x-python",
   "name": "python",
   "nbconvert_exporter": "python",
   "pygments_lexer": "ipython3",
   "version": "3.10.14"
  }
 },
 "nbformat": 4,
 "nbformat_minor": 5
}
