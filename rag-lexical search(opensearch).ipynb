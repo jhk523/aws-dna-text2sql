{
 "cells": [
  {
   "cell_type": "code",
   "execution_count": 1,
   "metadata": {
    "tags": []
   },
   "outputs": [],
   "source": [
    "!pip install -q boto3\n",
    "!pip install -q requests\n",
    "!pip install -q requests-aws4auth\n",
    "!pip install -q opensearch-py\n",
    "!pip install -q tqdm"
   ]
  },
  {
   "cell_type": "code",
   "execution_count": 2,
   "metadata": {
    "tags": []
   },
   "outputs": [],
   "source": [
    "!pip install \"faiss-cpu\" --quiet\n",
    "!pip install langchain --quiet\n",
    "!pip install jq --quiet"
   ]
  },
  {
   "cell_type": "code",
   "execution_count": 1,
   "metadata": {
    "tags": []
   },
   "outputs": [],
   "source": [
    "import os\n",
    "import sys\n",
    "from langchain.document_loaders.json_loader import JSONLoader\n",
    "from langchain.docstore.document import Document\n",
    "import json\n",
    "import re\n",
    "from langchain.vectorstores import FAISS\n",
    "from langchain.embeddings import BedrockEmbeddings\n",
    "from functools import reduce\n",
    "from langchain.prompts import PromptTemplate\n",
    "from sqlalchemy import MetaData\n",
    "from sqlalchemy import create_engine\n",
    "\n",
    "\n",
    "import re\n",
    "import pandas as pd\n",
    "import numpy as np\n",
    "import json\n",
    "import sqlite3\n",
    "\n",
    "data_path = './data'\n",
    "with open(f'{data_path}/tables.json', 'rb') as ofp:\n",
    "    meta = json.load(ofp)\n",
    "data = meta[0]\n",
    "\n",
    "data = [i for i in meta if i['db_id'] == 'department_store']\n",
    "\n",
    "data  = data[0]    \n",
    "columns = data[\"column_names_original\"]\n",
    "col_df = pd.DataFrame(columns).iloc[1:]\n",
    "col_df.rename(columns={0: 'table_idx', 1: 'col_name'}, inplace=True)\n",
    "col_df\n",
    "\n",
    "types_df = pd.DataFrame(data[\"column_types\"]).iloc[1:]\n",
    "types_df.rename(columns={0: 'type'}, inplace=True)\n",
    "types_df\n",
    "\n",
    "merged_col = pd.concat([col_df, types_df], axis=1)\n",
    "\n",
    "tables_df = pd.DataFrame(data[\"table_names_original\"])\n",
    "tables_df.reset_index(inplace=True)\n",
    "tables_df.columns = ['table_idx', 'table_name']\n",
    "\n",
    "meta = pd.merge(tables_df, merged_col, on=['table_idx'])\n",
    "meta = meta.drop(columns=['table_idx'])"
   ]
  },
  {
   "cell_type": "code",
   "execution_count": 2,
   "metadata": {
    "tags": []
   },
   "outputs": [],
   "source": [
    "from botocore.config import Config\n",
    "\n",
    "DB_NAME = \"text2sql\"\n",
    "DB_FAISS_PATH = './vectorstore/db_faiss'\n",
    "\n",
    "bedrock_region = athena_region = boto3.session.Session().region_name\n",
    "retry_config = Config(retries = {'max_attempts': 100})\n",
    "session = boto3.Session(region_name=bedrock_region)\n",
    "bedrock = session.client('bedrock-runtime', region_name=bedrock_region, config=retry_config)"
   ]
  },
  {
   "cell_type": "code",
   "execution_count": 7,
   "metadata": {},
   "outputs": [],
   "source": [
    "files = os.listdir('./data/rag')\n",
    "\n",
    "with open(f'./data/rag/{files[0]}', 'rb') as ofp:\n",
    "    df = json.load(ofp)"
   ]
  },
  {
   "cell_type": "code",
   "execution_count": 17,
   "metadata": {},
   "outputs": [
    {
     "data": {
      "text/plain": [
       "BedrockEmbeddings(client=<botocore.client.BedrockRuntime object at 0x7f645c626f20>, region_name=None, credentials_profile_name=None, model_id='amazon.titan-embed-text-v1', model_kwargs=None, endpoint_url=None, normalize=False)"
      ]
     },
     "execution_count": 17,
     "metadata": {},
     "output_type": "execute_result"
    }
   ],
   "source": [
    "# We will be using the Titan Embeddings Model to generate our Embeddings.\n",
    "from langchain.embeddings import BedrockEmbeddings\n",
    "\n",
    "# model_name=\"Titan-Embeddings-G1\"\n",
    "llm_emb = BedrockEmbeddings(client=bedrock)\n",
    "dimension = 1536\n",
    "llm_emb"
   ]
  },
  {
   "cell_type": "code",
   "execution_count": 18,
   "metadata": {},
   "outputs": [],
   "source": [
    "def get_cfn_outputs(stackname, cfn):\n",
    "    outputs = {}\n",
    "    for output in cfn.describe_stacks(StackName=stackname)[\"Stacks\"][0][\"Outputs\"]:\n",
    "        outputs[output[\"OutputKey\"]] = output[\"OutputValue\"]\n",
    "    return outputs"
   ]
  },
  {
   "cell_type": "code",
   "execution_count": 19,
   "metadata": {},
   "outputs": [
    {
     "data": {
      "text/plain": [
       "'search-opensearch-workshop-ashew5agtjkgsyxprzgu2m2oua.us-west-2.es.amazonaws.com'"
      ]
     },
     "execution_count": 19,
     "metadata": {},
     "output_type": "execute_result"
    }
   ],
   "source": [
    "import boto3, json\n",
    "\n",
    "\n",
    "region_name = \"us-west-2\"\n",
    "\n",
    "cfn = boto3.client(\"cloudformation\", region_name)\n",
    "kms = boto3.client(\"secretsmanager\", region_name)\n",
    "\n",
    "stackname = \"opensearch-workshop\"\n",
    "cfn_outputs = get_cfn_outputs(stackname, cfn)\n",
    "\n",
    "aos_credentials = json.loads(\n",
    "    kms.get_secret_value(SecretId=cfn_outputs[\"OpenSearchSecret\"])[\"SecretString\"]\n",
    ")\n",
    "\n",
    "aos_host = cfn_outputs[\"OpenSearchDomainEndpoint\"]\n",
    "aos_host"
   ]
  },
  {
   "cell_type": "code",
   "execution_count": 20,
   "metadata": {},
   "outputs": [],
   "source": [
    "from opensearchpy import OpenSearch, RequestsHttpConnection, AWSV4SignerAuth\n",
    "\n",
    "auth = (aos_credentials[\"username\"], aos_credentials[\"password\"])\n",
    "\n",
    "aos_client = OpenSearch(\n",
    "    hosts=[{\"host\": aos_host, \"port\": 443}],\n",
    "    http_auth=auth,\n",
    "    use_ssl=True,\n",
    "    verify_certs=True,\n",
    "    connection_class=RequestsHttpConnection,\n",
    ")"
   ]
  },
  {
   "cell_type": "code",
   "execution_count": 23,
   "metadata": {},
   "outputs": [
    {
     "data": {
      "text/plain": [
       "'DTDeTJAB3Hj2edbFglKU'"
      ]
     },
     "execution_count": 23,
     "metadata": {},
     "output_type": "execute_result"
    }
   ],
   "source": [
    "import requests\n",
    "\n",
    "search_model = {\"query\": {\"match\": {\"name\": \"OpenSearch-Cohere\"}}, \"size\": 10}\n",
    "\n",
    "response = requests.get(\n",
    "    \"https://\" + aos_host + \"/_plugins/_ml/models/_search\", auth=auth, json=search_model\n",
    ")\n",
    "model_info = json.loads(response.text)\n",
    "model_id = model_info[\"hits\"][\"hits\"][0][\"_id\"]\n",
    "model_id"
   ]
  },
  {
   "cell_type": "code",
   "execution_count": 24,
   "metadata": {},
   "outputs": [
    {
     "data": {
      "text/plain": [
       "{'acknowledged': True}"
      ]
     },
     "execution_count": 24,
     "metadata": {},
     "output_type": "execute_result"
    }
   ],
   "source": [
    "pipeline = {\n",
    "    \"description\": \"Text to Sql Task - OpenSearch-cohere-060124084807\",\n",
    "    \"processors\": [\n",
    "        {\n",
    "            \"text_embedding\": {\n",
    "                \"model_id\": model_id,\n",
    "                \"field_map\": {\n",
    "                    \"text\": \"vector_field\",\n",
    "                },\n",
    "            }\n",
    "        }\n",
    "    ],\n",
    "}\n",
    "\n",
    "pipeline_id = \"text2sql_meta_data\"\n",
    "# aos_client.ingest.delete_pipeline(id=pipeline_id)\n",
    "aos_client.ingest.put_pipeline(id=pipeline_id, body=pipeline)"
   ]
  },
  {
   "cell_type": "code",
   "execution_count": 65,
   "metadata": {},
   "outputs": [
    {
     "data": {
      "text/plain": [
       "{'acknowledged': True,\n",
       " 'shards_acknowledged': True,\n",
       " 'index': 'rag_semantic_ver9'}"
      ]
     },
     "execution_count": 65,
     "metadata": {},
     "output_type": "execute_result"
    }
   ],
   "source": [
    "index_name = \"rag_semantic_ver9\"\n",
    "\n",
    "# aos_client.indices.delete(index=index_name)\n",
    "\n",
    "rag_semantic = {\n",
    "#     \"settings\": {\n",
    "#         \"max_result_window\": 15000,\n",
    "#         \"analysis\": {\"analyzer\": {\"analysis-nori\": {\"type\": \"nori\", \"stopwords\": \"_korean_\"}}},\n",
    "#         \"index.knn\": True,\n",
    "#         \"default_pipeline\": pipeline_id,\n",
    "#         \"index.knn.space_type\": \"l2\",\n",
    "#     },\n",
    "    \"mappings\": {\n",
    "        \"properties\": {\n",
    "            \"tableName\": {\n",
    "                \"type\": \"text\",\n",
    "                \"fields\": {\n",
    "                          \"english\": {\n",
    "                            \"type\": \"text\",\n",
    "                            \"analyzer\": \"english\"},                \n",
    "                            },\n",
    "            },\n",
    "            \"question\": {\n",
    "                \"type\": \"text\",\n",
    "                \"fields\": {\n",
    "                          \"english\": {\n",
    "                            \"type\": \"text\",\n",
    "                            \"analyzer\": \"english\"},                \n",
    "                            },                \n",
    "            },\n",
    "            \"tableSchema\": {\n",
    "                \"type\": \"text\",\n",
    "                \"fields\": {\n",
    "                          \"english\": {\n",
    "                            \"type\": \"text\",\n",
    "                            \"analyzer\": \"english\"},                \n",
    "                            },     #{\"keyword\": {\"type\": \"keyword\", \"ignore_above\": 256}},\n",
    "            },\n",
    "            \"vector_field\": {\n",
    "                \"type\": \"knn_vector\",\n",
    "                \"dimension\": 1024,\n",
    "                \"method\": {\"name\": \"hnsw\", \"space_type\": \"l2\", \"engine\": \"faiss\"},\n",
    "                \"store\": True,\n",
    "            },\n",
    "\n",
    "        }\n",
    "    },\n",
    "}\n",
    "\n",
    "\n",
    "\n",
    "aos_client.indices.create(index=index_name, body=rag_semantic)"
   ]
  },
  {
   "cell_type": "code",
   "execution_count": 66,
   "metadata": {},
   "outputs": [],
   "source": [
    "from tqdm import tqdm\n",
    "from opensearchpy import helpers\n",
    "\n",
    "def _generate_data():\n",
    "    for doc in docs:\n",
    "        yield {\"_index\": index_name, \"_source\": doc}\n",
    "\n",
    "succeeded = []\n",
    "failed = []\n",
    "\n",
    "json_files = os.listdir('./data/rag')\n",
    "for p in json_files:\n",
    "    with open(f\"./data/rag/{p}\", 'rb') as ofp:\n",
    "        docs = json.load(ofp)\n",
    "\n",
    "    for success, item in helpers.parallel_bulk(\n",
    "        aos_client, actions= _generate_data(), chunk_size=10, thread_count=1, queue_size=1\n",
    "    ):\n",
    "        if success:\n",
    "            succeeded.append(item)\n",
    "        else:\n",
    "            failed.append(item)"
   ]
  },
  {
   "cell_type": "code",
   "execution_count": 67,
   "metadata": {},
   "outputs": [
    {
     "name": "stdout",
     "output_type": "stream",
     "text": [
      "{'count': 140, '_shards': {'total': 5, 'successful': 5, 'skipped': 0, 'failed': 0}}\n"
     ]
    }
   ],
   "source": [
    "# Refresh the index to make the changes visible\n",
    "aos_client.indices.refresh(index=index_name)\n",
    "\n",
    "count = aos_client.count(index=index_name)\n",
    "print(count)"
   ]
  },
  {
   "cell_type": "code",
   "execution_count": 68,
   "metadata": {},
   "outputs": [],
   "source": [
    "def keyword_search(query_text):\n",
    "    query = {\n",
    "        \"size\": 10,\n",
    "        \"_source\": {\"excludes\": [\"text\", \"vector_field\"]},\n",
    "        \"query\": {\n",
    "            \"multi_match\": {\n",
    "                \"query\": query_text,\n",
    "                \"fields\": [\"tableName\", \"question\", \"tableSchema\"],\n",
    "            }\n",
    "        },\n",
    "    }\n",
    "\n",
    "    res = aos_client.search(index=index_name, body=query)\n",
    "\n",
    "    query_result = []\n",
    "    for hit in res[\"hits\"][\"hits\"]:\n",
    "        row = [\n",
    "            hit[\"_score\"],\n",
    "            hit[\"_source\"][\"tableName\"],\n",
    "            hit[\"_source\"][\"question\"],\n",
    "            hit[\"_source\"][\"tableSchema\"],            \n",
    "        ]\n",
    "        query_result.append(row)\n",
    "\n",
    "    query_result_df = pd.DataFrame(\n",
    "        data=query_result, columns=[\"_score\", \"tableName\", \"question\", \"tableSchema\"]\n",
    "    )\n",
    "    display(query_result_df)"
   ]
  },
  {
   "cell_type": "code",
   "execution_count": 69,
   "metadata": {},
   "outputs": [
    {
     "data": {
      "text/html": [
       "<div>\n",
       "<style scoped>\n",
       "    .dataframe tbody tr th:only-of-type {\n",
       "        vertical-align: middle;\n",
       "    }\n",
       "\n",
       "    .dataframe tbody tr th {\n",
       "        vertical-align: top;\n",
       "    }\n",
       "\n",
       "    .dataframe thead th {\n",
       "        text-align: right;\n",
       "    }\n",
       "</style>\n",
       "<table border=\"1\" class=\"dataframe\">\n",
       "  <thead>\n",
       "    <tr style=\"text-align: right;\">\n",
       "      <th></th>\n",
       "      <th>_score</th>\n",
       "      <th>tableName</th>\n",
       "      <th>question</th>\n",
       "      <th>tableSchema</th>\n",
       "    </tr>\n",
       "  </thead>\n",
       "  <tbody>\n",
       "    <tr>\n",
       "      <th>0</th>\n",
       "      <td>2.891818</td>\n",
       "      <td>Customers</td>\n",
       "      <td>What payment methods are accepted from custom...</td>\n",
       "      <td>customer_id|payment_method_code|customer_code|...</td>\n",
       "    </tr>\n",
       "    <tr>\n",
       "      <th>1</th>\n",
       "      <td>2.329086</td>\n",
       "      <td>Customers</td>\n",
       "      <td>How can customers be categorized based on the...</td>\n",
       "      <td>customer_id|payment_method_code|customer_code|...</td>\n",
       "    </tr>\n",
       "  </tbody>\n",
       "</table>\n",
       "</div>"
      ],
      "text/plain": [
       "     _score  tableName                                           question  \\\n",
       "0  2.891818  Customers   What payment methods are accepted from custom...   \n",
       "1  2.329086  Customers   How can customers be categorized based on the...   \n",
       "\n",
       "                                         tableSchema  \n",
       "0  customer_id|payment_method_code|customer_code|...  \n",
       "1  customer_id|payment_method_code|customer_code|...  "
      ]
     },
     "metadata": {},
     "output_type": "display_data"
    }
   ],
   "source": [
    "query_text = \"people payment\"\n",
    "keyword_search(query_text)"
   ]
  },
  {
   "cell_type": "code",
   "execution_count": 70,
   "metadata": {},
   "outputs": [],
   "source": [
    "def semantic_search(query_text):\n",
    "    query = {\n",
    "        \"size\": 10,\n",
    "        \"_source\": {\"excludes\": [\"text\", \"vector_field\"]},\n",
    "        \"query\": {\n",
    "            \"neural\": {\"vector_field\": {\"query_text\": query_text, \"model_id\": model_id, \"k\": 10}},\n",
    "        },\n",
    "    }\n",
    "\n",
    "    res = aos_client.search(index=index_name, body=query)\n",
    "\n",
    "    query_result = []\n",
    "    for hit in res[\"hits\"][\"hits\"]:\n",
    "        row = [\n",
    "            hit[\"_score\"],\n",
    "            hit[\"_source\"][\"tableName\"],\n",
    "            hit[\"_source\"][\"question\"],\n",
    "            hit[\"_source\"][\"tableSchema\"],            \n",
    "        ]\n",
    "        query_result.append(row)\n",
    "\n",
    "    query_result_df = pd.DataFrame(\n",
    "        data=query_result, columns=[\"_score\", \"tableName\", \"question\", \"tableSchema\"]\n",
    "    )\n",
    "    display(query_result_df)"
   ]
  },
  {
   "cell_type": "code",
   "execution_count": 71,
   "metadata": {
    "scrolled": true
   },
   "outputs": [
    {
     "data": {
      "text/html": [
       "<div>\n",
       "<style scoped>\n",
       "    .dataframe tbody tr th:only-of-type {\n",
       "        vertical-align: middle;\n",
       "    }\n",
       "\n",
       "    .dataframe tbody tr th {\n",
       "        vertical-align: top;\n",
       "    }\n",
       "\n",
       "    .dataframe thead th {\n",
       "        text-align: right;\n",
       "    }\n",
       "</style>\n",
       "<table border=\"1\" class=\"dataframe\">\n",
       "  <thead>\n",
       "    <tr style=\"text-align: right;\">\n",
       "      <th></th>\n",
       "      <th>_score</th>\n",
       "      <th>tableName</th>\n",
       "      <th>question</th>\n",
       "      <th>tableSchema</th>\n",
       "    </tr>\n",
       "  </thead>\n",
       "  <tbody>\n",
       "  </tbody>\n",
       "</table>\n",
       "</div>"
      ],
      "text/plain": [
       "Empty DataFrame\n",
       "Columns: [_score, tableName, question, tableSchema]\n",
       "Index: []"
      ]
     },
     "metadata": {},
     "output_type": "display_data"
    }
   ],
   "source": [
    "semantic_search(query_text)\n",
    "# print(index_name)"
   ]
  },
  {
   "cell_type": "code",
   "execution_count": null,
   "metadata": {},
   "outputs": [],
   "source": []
  }
 ],
 "metadata": {
  "kernelspec": {
   "display_name": "conda_python3",
   "language": "python",
   "name": "conda_python3"
  },
  "language_info": {
   "codemirror_mode": {
    "name": "ipython",
    "version": 3
   },
   "file_extension": ".py",
   "mimetype": "text/x-python",
   "name": "python",
   "nbconvert_exporter": "python",
   "pygments_lexer": "ipython3",
   "version": "3.10.14"
  }
 },
 "nbformat": 4,
 "nbformat_minor": 4
}
